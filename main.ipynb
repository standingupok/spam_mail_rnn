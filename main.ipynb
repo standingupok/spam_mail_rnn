{
 "cells": [
  {
   "cell_type": "code",
   "execution_count": 2,
   "id": "40b549a5-5cfd-4573-81f5-8fab3f74fa44",
   "metadata": {},
   "outputs": [],
   "source": [
    "import torch\n",
    "import torch.nn as nn\n",
    "import torchtext.data as ttd\n",
    "import numpy as np\n",
    "import pandas as pd\n",
    "import matplotlib.pyplot as plt\n",
    "from nltk.stem import WordNetLemmatizer\n",
    "import spacy\n",
    "import re"
   ]
  },
  {
   "cell_type": "code",
   "execution_count": 3,
   "id": "b52b1873-1c69-4a30-b237-034f3fa1f94d",
   "metadata": {},
   "outputs": [],
   "source": [
    "from nltk.corpus import stopwords"
   ]
  },
  {
   "cell_type": "code",
   "execution_count": 4,
   "id": "cbe9e8e5-3795-44a9-90e5-fbe98a8a92a3",
   "metadata": {},
   "outputs": [],
   "source": [
    "from datetime import datetime"
   ]
  },
  {
   "cell_type": "markdown",
   "id": "c02eb9ff-5a45-4585-9313-5108536a62c4",
   "metadata": {},
   "source": [
    "## Load data"
   ]
  },
  {
   "cell_type": "code",
   "execution_count": 5,
   "id": "a4204a76-7927-452a-95ab-a67b441c574a",
   "metadata": {},
   "outputs": [],
   "source": [
    "df = pd.read_csv('spammail.csv')"
   ]
  },
  {
   "cell_type": "code",
   "execution_count": 7,
   "id": "2d15431b-3af5-4854-8cd3-7513d6f61313",
   "metadata": {},
   "outputs": [
    {
     "data": {
      "text/html": [
       "<div>\n",
       "<style scoped>\n",
       "    .dataframe tbody tr th:only-of-type {\n",
       "        vertical-align: middle;\n",
       "    }\n",
       "\n",
       "    .dataframe tbody tr th {\n",
       "        vertical-align: top;\n",
       "    }\n",
       "\n",
       "    .dataframe thead th {\n",
       "        text-align: right;\n",
       "    }\n",
       "</style>\n",
       "<table border=\"1\" class=\"dataframe\">\n",
       "  <thead>\n",
       "    <tr style=\"text-align: right;\">\n",
       "      <th></th>\n",
       "      <th>label</th>\n",
       "      <th>message</th>\n",
       "    </tr>\n",
       "  </thead>\n",
       "  <tbody>\n",
       "    <tr>\n",
       "      <th>0</th>\n",
       "      <td>ham</td>\n",
       "      <td>Go until jurong point, crazy.. Available only ...</td>\n",
       "    </tr>\n",
       "    <tr>\n",
       "      <th>1</th>\n",
       "      <td>ham</td>\n",
       "      <td>Ok lar... Joking wif u oni...</td>\n",
       "    </tr>\n",
       "    <tr>\n",
       "      <th>2</th>\n",
       "      <td>spam</td>\n",
       "      <td>Free entry in 2 a wkly comp to win FA Cup fina...</td>\n",
       "    </tr>\n",
       "    <tr>\n",
       "      <th>3</th>\n",
       "      <td>ham</td>\n",
       "      <td>U dun say so early hor... U c already then say...</td>\n",
       "    </tr>\n",
       "    <tr>\n",
       "      <th>4</th>\n",
       "      <td>ham</td>\n",
       "      <td>Nah I don't think he goes to usf, he lives aro...</td>\n",
       "    </tr>\n",
       "  </tbody>\n",
       "</table>\n",
       "</div>"
      ],
      "text/plain": [
       "  label                                            message\n",
       "0   ham  Go until jurong point, crazy.. Available only ...\n",
       "1   ham                      Ok lar... Joking wif u oni...\n",
       "2  spam  Free entry in 2 a wkly comp to win FA Cup fina...\n",
       "3   ham  U dun say so early hor... U c already then say...\n",
       "4   ham  Nah I don't think he goes to usf, he lives aro..."
      ]
     },
     "execution_count": 7,
     "metadata": {},
     "output_type": "execute_result"
    }
   ],
   "source": [
    "df.head()"
   ]
  },
  {
   "cell_type": "code",
   "execution_count": 8,
   "id": "ff59c313-70b4-4706-a6bf-655e9c732852",
   "metadata": {},
   "outputs": [
    {
     "name": "stdout",
     "output_type": "stream",
     "text": [
      "<class 'pandas.core.frame.DataFrame'>\n",
      "RangeIndex: 5572 entries, 0 to 5571\n",
      "Data columns (total 2 columns):\n",
      " #   Column   Non-Null Count  Dtype \n",
      "---  ------   --------------  ----- \n",
      " 0   label    5572 non-null   object\n",
      " 1   message  5572 non-null   object\n",
      "dtypes: object(2)\n",
      "memory usage: 87.2+ KB\n"
     ]
    }
   ],
   "source": [
    "df.info()"
   ]
  },
  {
   "cell_type": "markdown",
   "id": "171f6b14-1fe1-4d45-bd1e-b3c71c41b93d",
   "metadata": {},
   "source": [
    "## Map label to ham: 0 | spam: 1"
   ]
  },
  {
   "cell_type": "code",
   "execution_count": 9,
   "id": "6ec6421d-b7c1-4746-bde6-01ff4551babd",
   "metadata": {},
   "outputs": [],
   "source": [
    "df.label = df.label.map({'ham': 0, 'spam':1})"
   ]
  },
  {
   "cell_type": "code",
   "execution_count": 10,
   "id": "8362d2cc-210c-4809-bbb2-7a0572ca5e56",
   "metadata": {},
   "outputs": [
    {
     "data": {
      "text/html": [
       "<div>\n",
       "<style scoped>\n",
       "    .dataframe tbody tr th:only-of-type {\n",
       "        vertical-align: middle;\n",
       "    }\n",
       "\n",
       "    .dataframe tbody tr th {\n",
       "        vertical-align: top;\n",
       "    }\n",
       "\n",
       "    .dataframe thead th {\n",
       "        text-align: right;\n",
       "    }\n",
       "</style>\n",
       "<table border=\"1\" class=\"dataframe\">\n",
       "  <thead>\n",
       "    <tr style=\"text-align: right;\">\n",
       "      <th></th>\n",
       "      <th>label</th>\n",
       "      <th>message</th>\n",
       "    </tr>\n",
       "  </thead>\n",
       "  <tbody>\n",
       "    <tr>\n",
       "      <th>0</th>\n",
       "      <td>0</td>\n",
       "      <td>Go until jurong point, crazy.. Available only ...</td>\n",
       "    </tr>\n",
       "    <tr>\n",
       "      <th>1</th>\n",
       "      <td>0</td>\n",
       "      <td>Ok lar... Joking wif u oni...</td>\n",
       "    </tr>\n",
       "    <tr>\n",
       "      <th>2</th>\n",
       "      <td>1</td>\n",
       "      <td>Free entry in 2 a wkly comp to win FA Cup fina...</td>\n",
       "    </tr>\n",
       "    <tr>\n",
       "      <th>3</th>\n",
       "      <td>0</td>\n",
       "      <td>U dun say so early hor... U c already then say...</td>\n",
       "    </tr>\n",
       "    <tr>\n",
       "      <th>4</th>\n",
       "      <td>0</td>\n",
       "      <td>Nah I don't think he goes to usf, he lives aro...</td>\n",
       "    </tr>\n",
       "    <tr>\n",
       "      <th>...</th>\n",
       "      <td>...</td>\n",
       "      <td>...</td>\n",
       "    </tr>\n",
       "    <tr>\n",
       "      <th>5567</th>\n",
       "      <td>1</td>\n",
       "      <td>This is the 2nd time we have tried 2 contact u...</td>\n",
       "    </tr>\n",
       "    <tr>\n",
       "      <th>5568</th>\n",
       "      <td>0</td>\n",
       "      <td>Will ü b going to esplanade fr home?</td>\n",
       "    </tr>\n",
       "    <tr>\n",
       "      <th>5569</th>\n",
       "      <td>0</td>\n",
       "      <td>Pity, * was in mood for that. So...any other s...</td>\n",
       "    </tr>\n",
       "    <tr>\n",
       "      <th>5570</th>\n",
       "      <td>0</td>\n",
       "      <td>The guy did some bitching but I acted like i'd...</td>\n",
       "    </tr>\n",
       "    <tr>\n",
       "      <th>5571</th>\n",
       "      <td>0</td>\n",
       "      <td>Rofl. Its true to its name</td>\n",
       "    </tr>\n",
       "  </tbody>\n",
       "</table>\n",
       "<p>5572 rows × 2 columns</p>\n",
       "</div>"
      ],
      "text/plain": [
       "      label                                            message\n",
       "0         0  Go until jurong point, crazy.. Available only ...\n",
       "1         0                      Ok lar... Joking wif u oni...\n",
       "2         1  Free entry in 2 a wkly comp to win FA Cup fina...\n",
       "3         0  U dun say so early hor... U c already then say...\n",
       "4         0  Nah I don't think he goes to usf, he lives aro...\n",
       "...     ...                                                ...\n",
       "5567      1  This is the 2nd time we have tried 2 contact u...\n",
       "5568      0               Will ü b going to esplanade fr home?\n",
       "5569      0  Pity, * was in mood for that. So...any other s...\n",
       "5570      0  The guy did some bitching but I acted like i'd...\n",
       "5571      0                         Rofl. Its true to its name\n",
       "\n",
       "[5572 rows x 2 columns]"
      ]
     },
     "execution_count": 10,
     "metadata": {},
     "output_type": "execute_result"
    }
   ],
   "source": [
    "df"
   ]
  },
  {
   "cell_type": "code",
   "execution_count": 11,
   "id": "fc284ea3-4d1d-4a53-829d-99b8ece868a6",
   "metadata": {},
   "outputs": [],
   "source": [
    "df.to_csv('spam_maped_label.csv', index=False)"
   ]
  },
  {
   "cell_type": "markdown",
   "id": "7de06c7a-5ec2-4f41-a79f-370b2c359e24",
   "metadata": {},
   "source": [
    "## Data Preprocessing"
   ]
  },
  {
   "cell_type": "code",
   "execution_count": 12,
   "id": "4d2c82b5-437c-46b4-a0fd-9c42b0d13660",
   "metadata": {},
   "outputs": [],
   "source": [
    "lematizer = WordNetLemmatizer()\n",
    "spacy_en = spacy.load(\"en_core_web_sm\")\n",
    "stopwords = set(stopwords.words('english'))\n",
    "def text_preprocessing(text):\n",
    "    # Delete special punctuation\n",
    "    tokens = re.sub(r'[^a-zA-Z]+', ' ', text.strip())\n",
    "    # use spacy and WordNetLemmatizer to tokenize and remove part of speech\n",
    "    tokens = [token.text.lower() for token in spacy_en.tokenizer(tokens)]\n",
    "    tokens = [lematizer.lemmatize(token, pos='v') for token in tokens if token not in stopwords]\n",
    "    return tokens"
   ]
  },
  {
   "cell_type": "markdown",
   "id": "c664905b-dc51-4752-8615-fee9d5ca321a",
   "metadata": {},
   "source": [
    "## Define data"
   ]
  },
  {
   "cell_type": "code",
   "execution_count": 13,
   "id": "feb36bb2-43b5-47bd-8346-597104f45691",
   "metadata": {},
   "outputs": [],
   "source": [
    "TEXT = ttd.Field(\n",
    "    sequential=True,\n",
    "    batch_first=True,\n",
    "    lower=True, \n",
    "    tokenize=text_preprocessing\n",
    ")\n",
    "\n",
    "LABEL = ttd.Field(sequential=False, use_vocab=False, is_target=True)"
   ]
  },
  {
   "cell_type": "code",
   "execution_count": 14,
   "id": "fd0d8fe5-7da4-459a-8084-14192c006966",
   "metadata": {},
   "outputs": [],
   "source": [
    "dataset = ttd.TabularDataset(\n",
    "    path='spam_maped_label.csv',\n",
    "    format='csv',\n",
    "    skip_header=True,\n",
    "    fields=[('label', LABEL), ('message', TEXT)]\n",
    ")"
   ]
  },
  {
   "cell_type": "code",
   "execution_count": 15,
   "id": "74ef4afd-a6f6-4fc6-a263-39a97dea8aa7",
   "metadata": {},
   "outputs": [
    {
     "data": {
      "text/plain": [
       "['go',\n",
       " 'jurong',\n",
       " 'point',\n",
       " 'crazy',\n",
       " 'available',\n",
       " 'bugis',\n",
       " 'n',\n",
       " 'great',\n",
       " 'world',\n",
       " 'la',\n",
       " 'e',\n",
       " 'buffet',\n",
       " 'cine',\n",
       " 'get',\n",
       " 'amore',\n",
       " 'wat']"
      ]
     },
     "execution_count": 15,
     "metadata": {},
     "output_type": "execute_result"
    }
   ],
   "source": [
    "dataset.examples[0].message"
   ]
  },
  {
   "cell_type": "markdown",
   "id": "764ebe86-0289-4822-afe1-7b6e077ae028",
   "metadata": {},
   "source": [
    "# SPLIT DATA"
   ]
  },
  {
   "cell_type": "code",
   "execution_count": 16,
   "id": "e9f8ff40-8f3e-4a37-8535-bdffeba78953",
   "metadata": {},
   "outputs": [],
   "source": [
    "# Build in function of ttd. Default : 70%\n",
    "train_dataset, test_dataset = dataset.split()"
   ]
  },
  {
   "cell_type": "code",
   "execution_count": 17,
   "id": "622851d8-ef75-42db-b6d0-86f0e27dd806",
   "metadata": {},
   "outputs": [
    {
     "data": {
      "text/plain": [
       "3900"
      ]
     },
     "execution_count": 17,
     "metadata": {},
     "output_type": "execute_result"
    }
   ],
   "source": [
    "len(train_dataset)"
   ]
  },
  {
   "cell_type": "code",
   "execution_count": 18,
   "id": "74c43e4a-d535-468f-a484-4a0f9dde264d",
   "metadata": {},
   "outputs": [
    {
     "name": "stdout",
     "output_type": "stream",
     "text": [
      "{'label': '0', 'message': ['come', 'friday', 'leave', 'pongal', 'get', 'news', 'work', 'place']}\n"
     ]
    }
   ],
   "source": [
    "print(vars(train_dataset[0]))"
   ]
  },
  {
   "cell_type": "markdown",
   "id": "0dcb59ae-9101-44aa-bd52-fc97703074ab",
   "metadata": {},
   "source": [
    "## Word embedding"
   ]
  },
  {
   "cell_type": "code",
   "execution_count": 19,
   "id": "38951de6-e2fe-4633-89e6-31eb17fadfda",
   "metadata": {},
   "outputs": [],
   "source": [
    "TEXT.build_vocab(train_dataset,)"
   ]
  },
  {
   "cell_type": "code",
   "execution_count": 20,
   "id": "0ddc1985-4c70-4aaf-9510-420cfd5037ab",
   "metadata": {},
   "outputs": [],
   "source": [
    "vocab = TEXT.vocab"
   ]
  },
  {
   "cell_type": "code",
   "execution_count": 21,
   "id": "b54ab7e6-3eb4-496e-af6b-e23e90de852c",
   "metadata": {},
   "outputs": [],
   "source": [
    "# vocab.stoi"
   ]
  },
  {
   "cell_type": "markdown",
   "id": "22dfff6d-3d4b-45d7-b74d-375e473df5cc",
   "metadata": {},
   "source": [
    "## Use Gpu"
   ]
  },
  {
   "cell_type": "code",
   "execution_count": 22,
   "id": "3d413c02-f179-4cf0-8e13-d4358bb68b8f",
   "metadata": {},
   "outputs": [],
   "source": [
    "device = torch.device('cuda:0' if torch.cuda.is_available() else 'cpu')"
   ]
  },
  {
   "cell_type": "code",
   "execution_count": 24,
   "id": "9910574e-f4da-4b79-885a-75e7422a6064",
   "metadata": {},
   "outputs": [],
   "source": [
    "train_iterator, test_iterator = ttd.Iterator.splits(\n",
    "    (train_dataset, test_dataset),\n",
    "    sort_key = lambda x : len(x.message),\n",
    "    batch_sizes=(32, 256),\n",
    "    device=device\n",
    ")"
   ]
  },
  {
   "cell_type": "code",
   "execution_count": 25,
   "id": "78f19a63-ae44-4eb3-8848-f40218895e7a",
   "metadata": {},
   "outputs": [
    {
     "name": "stdout",
     "output_type": "stream",
     "text": [
      "torch.Size([32, 21]) torch.Size([32])\n"
     ]
    }
   ],
   "source": [
    "for inputs, targets in train_iterator:\n",
    "    print(inputs.shape, targets.shape)\n",
    "    break"
   ]
  },
  {
   "cell_type": "code",
   "execution_count": null,
   "id": "a69c179b-c3d6-455c-b249-9520b71ba20b",
   "metadata": {},
   "outputs": [],
   "source": [
    "## Create class RNN inherit nn.Module"
   ]
  },
  {
   "cell_type": "markdown",
   "id": "2a441517-a7b4-4fbe-826e-cad4b960a79a",
   "metadata": {},
   "source": [
    "# Note: Model is a Module. All units in nn (Sequential, Linerar, Relu...) are modules\n",
    "# All inherits Module"
   ]
  },
  {
   "cell_type": "code",
   "execution_count": 26,
   "id": "f3b57ce5-9fd9-46a5-a822-5bd38f2e371d",
   "metadata": {},
   "outputs": [],
   "source": [
    "class RNN(nn.Module):\n",
    "    def __init__(self, n_vocab, embed_dim, n_hidden, n_rnnlayers, n_outputs):\n",
    "        super(RNN, self).__init__()\n",
    "        self.V = n_vocab\n",
    "        self.D = embed_dim\n",
    "        self.M = n_hidden\n",
    "        self.L = n_rnnlayers\n",
    "        self.K = n_outputs\n",
    "\n",
    "        self.embed = nn.Embedding(self.V, self.D)\n",
    "        self.rnn = nn.LSTM(\n",
    "            input_size = self.D,\n",
    "            hidden_size = self.M,\n",
    "            num_layers= self.L,\n",
    "            batch_first = True\n",
    "        )\n",
    "\n",
    "        self.fc = nn.Linear(self.M, self.K)\n",
    "\n",
    "    def forward(self, X):\n",
    "        h0 = torch.zeros(self.L, X.size(0), self.M).to(device)\n",
    "        c0 = torch.zeros(self.L, X.size(0), self.M).to(device)\n",
    "        \n",
    "        out = self.embed(X)\n",
    "        out, _ = self.rnn(out, (h0, c0))\n",
    "        out, _ = torch.max(out, 1)\n",
    "        out = self.fc(out)\n",
    "        return out"
   ]
  },
  {
   "cell_type": "markdown",
   "id": "bae090bf-ce0a-4e8c-948a-ed70e87f54d4",
   "metadata": {},
   "source": [
    "## Create model and bring to gpu"
   ]
  },
  {
   "cell_type": "code",
   "execution_count": 28,
   "id": "43800ebd-60c2-4b21-84d9-0ce067e896fb",
   "metadata": {},
   "outputs": [
    {
     "data": {
      "text/plain": [
       "RNN(\n",
       "  (embed): Embedding(5446, 20)\n",
       "  (rnn): LSTM(20, 15, batch_first=True)\n",
       "  (fc): Linear(in_features=15, out_features=1, bias=True)\n",
       ")"
      ]
     },
     "execution_count": 28,
     "metadata": {},
     "output_type": "execute_result"
    }
   ],
   "source": [
    "model = RNN(len(vocab), 20, 15, 1, 1)\n",
    "model.to(device)"
   ]
  },
  {
   "cell_type": "markdown",
   "id": "af6cfc47-6772-451d-b1df-4107f65bda63",
   "metadata": {},
   "source": [
    "## Loss and gradient descent"
   ]
  },
  {
   "cell_type": "code",
   "execution_count": 29,
   "id": "45cf3d57-a6a0-4128-8aa4-019d76c6f81d",
   "metadata": {},
   "outputs": [],
   "source": [
    "criterion = nn.BCEWithLogitsLoss()\n",
    "optimizer = torch.optim.Adam(model.parameters(), lr=0.01)"
   ]
  },
  {
   "cell_type": "markdown",
   "id": "322714a8-909e-44f6-b6c8-a9450b29862d",
   "metadata": {},
   "source": [
    "# Define batch gradient descent function"
   ]
  },
  {
   "cell_type": "code",
   "execution_count": null,
   "id": "f5a15aa3-8b93-41db-9d50-e9f95fc32d63",
   "metadata": {},
   "outputs": [],
   "source": [
    "def batch_grad(model, criterion, optimizer, train_iterator, test_iterator, epochs=20):\n",
    "    train_losses = np.zeros(epochs)\n",
    "    test_losses = np.zeros(epochs)\n",
    "    for it in range(epochs):\n",
    "        train_loss = []\n",
    "        t0 = datetime.now()\n",
    "        for inputs, targets in train_iterator:\n",
    "            targets = targets.view(-1, 1).float()\n",
    "            \n",
    "            # zero weights\n",
    "            optimizer.zero_grad()\n",
    "            \n",
    "            # forward\n",
    "            outputs = model(inputs)\n",
    "            loss = criterion(outputs, targets)\n",
    "            \n",
    "            # backward and optimize\n",
    "            loss.backward()\n",
    "            optimizer.step()\n",
    "\n",
    "            train_loss.append(loss.item())\n",
    "        train_loss = np.mean(train_loss)\n",
    "\n",
    "        test_loss = []\n",
    "        for inputs, targets in test_iterator:\n",
    "            targets = targets.view(-1, 1).float()\n",
    "            outputs = model(inputs)\n",
    "            loss = criterion(outputs, targets)\n",
    "            test_loss.append(loss.item())\n",
    "\n",
    "        test_loss = np.mean(test_loss)\n",
    "        train_losses[it], test_losses[it] = train_loss, test_loss\n",
    "        dt = datetime.now() - t0\n",
    "        print(f'Epoch: {it + 1}/{epochs} train loess: {train_loss:.4f}  test loss\" {test_loss:.4f}  duration: {dt}')\n",
    "\n",
    "    return train_losses, test_losses"
   ]
  },
  {
   "cell_type": "markdown",
   "id": "978b753e-7e76-4b97-aa9b-868a20a851e3",
   "metadata": {},
   "source": [
    "# Train model"
   ]
  },
  {
   "cell_type": "code",
   "execution_count": 31,
   "id": "c7022029-a054-4452-84fe-ad563d4d9006",
   "metadata": {},
   "outputs": [
    {
     "name": "stdout",
     "output_type": "stream",
     "text": [
      "Epoch: 1/20 train loess: 0.4293  test loss\" 0.4867  duration: 0:00:00.987857\n",
      "Epoch: 2/20 train loess: 0.3703  test loss\" 0.5145  duration: 0:00:00.498551\n",
      "Epoch: 3/20 train loess: 0.3401  test loss\" 0.4504  duration: 0:00:00.475893\n",
      "Epoch: 4/20 train loess: 0.2581  test loss\" 0.3713  duration: 0:00:00.454258\n",
      "Epoch: 5/20 train loess: 0.1829  test loss\" 0.3434  duration: 0:00:00.463158\n",
      "Epoch: 6/20 train loess: 0.1510  test loss\" 0.3229  duration: 0:00:00.492278\n",
      "Epoch: 7/20 train loess: 0.1186  test loss\" 0.3144  duration: 0:00:00.481091\n",
      "Epoch: 8/20 train loess: 0.0998  test loss\" 0.3157  duration: 0:00:00.531639\n",
      "Epoch: 9/20 train loess: 0.0883  test loss\" 0.2887  duration: 0:00:00.501032\n",
      "Epoch: 10/20 train loess: 0.0826  test loss\" 0.3101  duration: 0:00:00.527409\n",
      "Epoch: 11/20 train loess: 0.0703  test loss\" 0.3093  duration: 0:00:00.540811\n",
      "Epoch: 12/20 train loess: 0.0625  test loss\" 0.3107  duration: 0:00:00.648187\n",
      "Epoch: 13/20 train loess: 0.0572  test loss\" 0.3114  duration: 0:00:00.620702\n",
      "Epoch: 14/20 train loess: 0.0535  test loss\" 0.3024  duration: 0:00:00.651357\n",
      "Epoch: 15/20 train loess: 0.0470  test loss\" 0.2833  duration: 0:00:00.530970\n",
      "Epoch: 16/20 train loess: 0.0376  test loss\" 0.2998  duration: 0:00:00.524245\n",
      "Epoch: 17/20 train loess: 0.0333  test loss\" 0.3129  duration: 0:00:00.566356\n",
      "Epoch: 18/20 train loess: 0.0434  test loss\" 0.3797  duration: 0:00:00.518732\n",
      "Epoch: 19/20 train loess: 0.0376  test loss\" 0.2851  duration: 0:00:00.506242\n",
      "Epoch: 20/20 train loess: 0.0292  test loss\" 0.2789  duration: 0:00:00.503761\n"
     ]
    }
   ],
   "source": [
    "train_losses, test_losses = batch_grad(model, criterion, optimizer, train_iterator, test_iterator, epochs=20) "
   ]
  },
  {
   "cell_type": "markdown",
   "id": "760be712-83b8-4595-b2e5-6c84533640da",
   "metadata": {},
   "source": [
    "# PLot loss"
   ]
  },
  {
   "cell_type": "code",
   "execution_count": 32,
   "id": "fb3911e9-bc53-47d2-8126-6242af97bace",
   "metadata": {},
   "outputs": [
    {
     "data": {
      "image/png": "[encoded data removed]",
      "text/plain": [
       "<Figure size 640x480 with 1 Axes>"
      ]
     },
     "metadata": {},
     "output_type": "display_data"
    }
   ],
   "source": [
    "plt.plot(train_losses, label='train loss')\n",
    "plt.plot(test_losses, label='test loss')\n",
    "plt.legend();"
   ]
  },
  {
   "cell_type": "markdown",
   "id": "f627e06d-e813-4440-80d1-538044ebd620",
   "metadata": {},
   "source": [
    "# Evalutating with accuracy"
   ]
  },
  {
   "cell_type": "code",
   "execution_count": 255,
   "id": "f1bb1cc0-4809-4e2e-8d48-bb9b134d54af",
   "metadata": {},
   "outputs": [
    {
     "name": "stdout",
     "output_type": "stream",
     "text": [
      "train_acc: 0.9949, test_acc: 0.8840\n"
     ]
    }
   ],
   "source": [
    "p_train = []\n",
    "y_train = []\n",
    "for inputs, targets in train_iterator:\n",
    "    targets = targets.view(-1, 1).float()\n",
    "    outputs = model(inputs)\n",
    "\n",
    "    # prediction\n",
    "    predictions = list((outputs > 0).cpu().numpy())\n",
    "\n",
    "    p_train += predictions\n",
    "    y_train += list(targets.cpu().numpy())\n",
    "\n",
    "p_train = np.array(p_train)\n",
    "y_train = np.array(y_train)\n",
    "\n",
    "train_acc = np.mean(y_train == p_train)\n",
    "\n",
    "p_test = []\n",
    "y_test = []\n",
    "for inputs, targets in test_iterator:\n",
    "    targets = targets.view(-1, 1).float()\n",
    "    outputs = model(inputs)\n",
    "    # print(outputs)\n",
    "    # prediction\n",
    "    predictions = list((outputs > 0).cpu().numpy())\n",
    "    # print(predictions)\n",
    "    p_test += predictions\n",
    "    y_test += list(targets.cpu().numpy())\n",
    "\n",
    "p_test = np.array(p_test)\n",
    "y_test = np.array(y_test)\n",
    "\n",
    "test_acc = np.mean(y_test == p_test)\n",
    "print(f'train_acc: {train_acc:.4f}, test_acc: {test_acc:.4f}')"
   ]
  },
  {
   "cell_type": "code",
   "execution_count": 36,
   "id": "15590be1-adb6-4920-b24e-6bb24c441018",
   "metadata": {},
   "outputs": [],
   "source": [
    "import seaborn as sns"
   ]
  },
  {
   "cell_type": "code",
   "execution_count": 37,
   "id": "43f80427-ae42-4907-96b8-184bbef9e2c4",
   "metadata": {},
   "outputs": [],
   "source": [
    "from sklearn.metrics import confusion_matrix\n",
    "\n",
    "def plot_cm(cm, title='cm'):\n",
    "    sns.heatmap(cm, annot=True, fmt='d', cbar=True)\n",
    "    plt.title(title)\n",
    "    plt.ylabel('predicted')\n",
    "    plt.xlabel('true label')\n",
    "    plt.show()"
   ]
  },
  {
   "cell_type": "code",
   "execution_count": 47,
   "id": "e4428de7-71e8-4a95-81dc-e41d409657de",
   "metadata": {},
   "outputs": [
    {
     "data": {
      "image/png": "[encoded data removed]",
      "text/plain": [
       "<Figure size 640x480 with 2 Axes>"
      ]
     },
     "metadata": {},
     "output_type": "display_data"
    }
   ],
   "source": [
    "cm = confusion_matrix(y_test, p_test)\n",
    "plot_cm(cm)"
   ]
  },
  {
   "cell_type": "markdown",
   "id": "77df2c9d-19e1-4ff3-bd23-9ad5f7c772dc",
   "metadata": {},
   "source": [
    "# Predict"
   ]
  },
  {
   "cell_type": "markdown",
   "id": "de2af0fa-b7f3-4e88-9cbd-b27fa22c868b",
   "metadata": {},
   "source": [
    "## Single prediction"
   ]
  },
  {
   "cell_type": "code",
   "execution_count": 248,
   "id": "dd034109-c63d-4408-9bf3-1b905a0f6c80",
   "metadata": {},
   "outputs": [
    {
     "name": "stdout",
     "output_type": "stream",
     "text": [
      "ham\n"
     ]
    }
   ],
   "source": [
    "single_sentc =  'hello can you come tonight?'\n",
    "tokens = TEXT.numericalize([TEXT.preprocess(single_sentc)])\n",
    "output = model(tokens.to(device))  # Đưa vào mô hình\n",
    "print('Spam' if output > 0 else 'ham')"
   ]
  },
  {
   "cell_type": "code",
   "execution_count": 251,
   "id": "711d073d-25b4-4ba5-a37b-3b98c047e879",
   "metadata": {},
   "outputs": [
    {
     "name": "stdout",
     "output_type": "stream",
     "text": [
      "Spam\n"
     ]
    }
   ],
   "source": [
    "single_sentc =  'You have been selected to receive a $10,000 gift card from our exclusive rewards program!'\n",
    "tokens = TEXT.numericalize([TEXT.preprocess(single_sentc)])\n",
    "output = model(tokens.to(device))  # Đưa vào mô hình\n",
    "print('Spam' if output > 0 else 'ham')"
   ]
  },
  {
   "cell_type": "markdown",
   "id": "c33d8cd3-1e54-4e92-a8a4-a34dac7235e0",
   "metadata": {},
   "source": [
    "## Multiple prediction"
   ]
  },
  {
   "cell_type": "code",
   "execution_count": 179,
   "id": "6db1de95-21fc-4ba9-86cd-c6f7e0577b8d",
   "metadata": {},
   "outputs": [],
   "source": [
    "sample_dataset = ttd.TabularDataset(\n",
    "    path='test_data.csv',\n",
    "    format='csv',\n",
    "    skip_header=True,\n",
    "    fields=[('label', LABEL),('message', TEXT)]\n",
    ")"
   ]
  },
  {
   "cell_type": "code",
   "execution_count": 181,
   "id": "9df792a1-380e-4af9-915a-fdc6ca5b1b39",
   "metadata": {},
   "outputs": [
    {
     "data": {
      "text/plain": [
       "'1'"
      ]
     },
     "execution_count": 181,
     "metadata": {},
     "output_type": "execute_result"
    }
   ],
   "source": [
    "sample_dataset.examples[0].label"
   ]
  },
  {
   "cell_type": "code",
   "execution_count": 183,
   "id": "9eb2012c-57ec-4abf-b5dd-691c4363b6d4",
   "metadata": {},
   "outputs": [],
   "source": [
    "sample_iterator = ttd.Iterator(\n",
    "    sample_dataset,\n",
    "    batch_size=32,\n",
    "    sort_key= lambda x : len(x.message),\n",
    "    device=device\n",
    ")"
   ]
  }
 ],
 "metadata": {
  "kernelspec": {
   "display_name": "Python [conda env:base] *",
   "language": "python",
   "name": "conda-base-py"
  },
  "language_info": {
   "codemirror_mode": {
    "name": "ipython",
    "version": 3
   },
   "file_extension": ".py",
   "mimetype": "text/x-python",
   "name": "python",
   "nbconvert_exporter": "python",
   "pygments_lexer": "ipython3",
   "version": "3.12.7"
  }
 },
 "nbformat": 4,
 "nbformat_minor": 5
}
